{
  "nbformat": 4,
  "nbformat_minor": 0,
  "metadata": {
    "colab": {
      "provenance": []
    },
    "kernelspec": {
      "name": "python3",
      "display_name": "Python 3"
    },
    "language_info": {
      "name": "python"
    }
  },
  "cells": [
    {
      "cell_type": "code",
      "execution_count": null,
      "metadata": {
        "id": "d7te53SWkHEP"
      },
      "outputs": [],
      "source": [
        "class Material():\n",
        "  def __init__(self, m_type, m_fraction):\n",
        "    self.m_type = m_type\n",
        "    self.m_fraction = m_fraction\n",
        "\n",
        "class Liquor():\n",
        "  def __init__(self, concentration, purity):\n",
        "    self.concentration = concentration\n",
        "    self.purity = purity\n",
        "\n",
        "  def liquor_info(self):\n",
        "    pass # запоминает данные о растворе\n",
        "\n",
        "class Filter():\n",
        "  def __init__(self, f_type, f_age):\n",
        "    self.f_type = f_type\n",
        "    self.f_age = f_age\n",
        "\n",
        "  def when_to_change():\n",
        "    pass #определяет, нужно ли заменить фильтр\n",
        "\n",
        "class Manufacturing():\n",
        "  def __init__(material_name):\n",
        "    self.material_name = material_name\n",
        "\n",
        "  def begin_process()\n",
        "    pass #запускает процесс переработки материала\n",
        "\n",
        "class Shredding(Manufacturing):\n",
        "  def __init__(self, material_name, list_of_batches):\n",
        "    super().__init__(material_name)\n",
        "    self.list_of_batches = list_of_batches\n",
        "\n",
        "    def shredding(self):\n",
        "      pass #измельчение материала\n",
        "\n",
        "class Batch(Material):\n",
        "  def __init__(self, m_type, m_fraction, its_liquor, its_catalyzer, its_dirt):\n",
        "    super().__init__(m_type, m_fraction)\n",
        "    self.its_liquor = its_liquor\n",
        "    self.its_catalyzer = its_catalyzer\n",
        "    self.its_dirt = its_dirt\n",
        "\n",
        "class Cyanidation(Manufacturing):\n",
        "  def __init__(self, material_name, batch_id, liqour_name, catalyzer_name):\n",
        "    super().__init__(material_name)\n",
        "    self.batch_id = batch_id\n",
        "    self.liqour_name = liqour_name\n",
        "    self.catalyzer_name = catalyzer_name\n",
        "\n",
        " def cyanidation()\n",
        "    pass #запускает процесс цианирования\n",
        "\n",
        "class Cleaning(Manufacturing):\n",
        "  def __init__(self, material_name, batch_id, filter_name):\n",
        "    super().__init__(material_name)\n",
        "    self.batch_id = batch_id\n",
        "    self.filter_name = filter_name\n",
        "\n",
        " def cleaning()\n",
        "    pass #запускает чистку"
      ]
    }
  ]
}